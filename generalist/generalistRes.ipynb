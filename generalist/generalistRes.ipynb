{
 "cells": [
  {
   "cell_type": "code",
   "execution_count": 6,
   "metadata": {},
   "outputs": [
    {
     "name": "stderr",
     "output_type": "stream",
     "text": [
      "/home/revess/anaconda3/lib/python3.9/site-packages/deap/creator.py:138: RuntimeWarning: A class named 'Fitness' has already been created and it will be overwritten. Consider deleting previous creation of that class or rename it.\n",
      "  warnings.warn(\"A class named '{0}' has already been created and it \"\n",
      "/home/revess/anaconda3/lib/python3.9/site-packages/deap/creator.py:138: RuntimeWarning: A class named 'IndividualContainer' has already been created and it will be overwritten. Consider deleting previous creation of that class or rename it.\n",
      "  warnings.warn(\"A class named '{0}' has already been created and it \"\n"
     ]
    }
   ],
   "source": [
    "import pandas as pd\n",
    "import pickle as pkl\n",
    "from deap import base, creator\n",
    "creator.create(\"Fitness\", base.Fitness, weights=(1.0,))      \n",
    "creator.create(\"IndividualContainer\", list, fitness=creator.Fitness)"
   ]
  },
  {
   "cell_type": "code",
   "execution_count": 7,
   "metadata": {},
   "outputs": [],
   "source": [
    "finalDataGroup1 = {\n",
    "    \"Type\":[],\n",
    "    \"Group\":[],\n",
    "    \"Round\":[],\n",
    "    \"Generation\":[],\n",
    "    \"Individual\":[],\n",
    "    \"Enemy1 Player Health\":[],\n",
    "    \"Enemy2 Player Health\":[],\n",
    "    \"Enemy3 Player Health\":[],\n",
    "    \"Enemy4 Player Health\":[],\n",
    "    \"Enemy5 Player Health\":[],\n",
    "    \"Enemy6 Player Health\":[],\n",
    "    \"Enemy7 Player Health\":[],\n",
    "    \"Enemy8 Player Health\":[],\n",
    "    \"Enemy1 Enemy Health\":[],\n",
    "    \"Enemy2 Enemy Health\":[],\n",
    "    \"Enemy3 Enemy Health\":[],\n",
    "    \"Enemy4 Enemy Health\":[],\n",
    "    \"Enemy5 Enemy Health\":[],\n",
    "    \"Enemy6 Enemy Health\":[],\n",
    "    \"Enemy7 Enemy Health\":[],\n",
    "    \"Enemy8 Enemy Health\":[],\n",
    "    \"Enemy1 Time\":[],\n",
    "    \"Enemy2 Time\":[],\n",
    "    \"Enemy3 Time\":[],\n",
    "    \"Enemy4 Time\":[],\n",
    "    \"Enemy5 Time\":[],\n",
    "    \"Enemy6 Time\":[],\n",
    "    \"Enemy7 Time\":[],\n",
    "    \"Enemy8 Time\":[],\n",
    "    \"Sum Player Health\":[],\n",
    "    \"Sum Time\":[],\n",
    "    \"Enemies Beaten\":[],\n",
    "    \"Total Enemies\":[],\n",
    "    \"Relative Beaten\":[]\n",
    "}\n",
    "for type_ in [\"S\", \"R\"]:\n",
    "    for round_ in range(10):\n",
    "        with open(\"./data/checkpoints/1_\"+str(1)+\"_\"+type_+\"_\"+str(round_)+\"/50.pkl\",\"rb\") as file_:\n",
    "            data = pkl.load(file_)[3]\n",
    "        for generation in range(len(data)):\n",
    "            for ind in range(len(data[generation])):\n",
    "                finalDataGroup1[\"Type\"].append(type_)\n",
    "                finalDataGroup1[\"Group\"].append(1)\n",
    "                finalDataGroup1[\"Round\"].append(round_)\n",
    "                finalDataGroup1[\"Generation\"].append(generation)\n",
    "                finalDataGroup1[\"Individual\"].append(ind)\n",
    "                for enemy in range(8):\n",
    "                    finalDataGroup1[\"Enemy\"+str(enemy+1)+\" Player Health\"].append(data[generation][ind][5][enemy])\n",
    "                    finalDataGroup1[\"Enemy\"+str(enemy+1)+\" Enemy Health\"].append(data[generation][ind][6][enemy])\n",
    "                    finalDataGroup1[\"Enemy\"+str(enemy+1)+\" Time\"].append(data[generation][ind][7][enemy])\n",
    "                finalDataGroup1[\"Sum Player Health\"].append(sum(data[generation][ind][5]))\n",
    "                finalDataGroup1[\"Sum Time\"].append(sum(data[generation][ind][7]))\n",
    "                finalDataGroup1[\"Enemies Beaten\"].append(len([e for e in data[generation][ind][6] if e == 0]))\n",
    "                finalDataGroup1[\"Total Enemies\"].append(8)\n",
    "                finalDataGroup1[\"Relative Beaten\"].append(len([e for e in data[generation][ind][6] if e == 0])/8)"
   ]
  },
  {
   "cell_type": "code",
   "execution_count": 8,
   "metadata": {},
   "outputs": [],
   "source": [
    "finalDataGroup2 = {\n",
    "    \"Type\":[],\n",
    "    \"Group\":[],\n",
    "    \"Round\":[],\n",
    "    \"Generation\":[],\n",
    "    \"Individual\":[],\n",
    "    \"Enemy3 Player Health\":[],\n",
    "    \"Enemy5 Player Health\":[],\n",
    "    \"Enemy7 Player Health\":[],\n",
    "    \"Enemy8 Player Health\":[],\n",
    "    \"Enemy3 Enemy Health\":[],\n",
    "    \"Enemy5 Enemy Health\":[],\n",
    "    \"Enemy7 Enemy Health\":[],\n",
    "    \"Enemy8 Enemy Health\":[],\n",
    "    \"Enemy3 Time\":[],\n",
    "    \"Enemy5 Time\":[],\n",
    "    \"Enemy7 Time\":[],\n",
    "    \"Enemy8 Time\":[],\n",
    "    \"Sum Player Health\":[],\n",
    "    \"Sum Time\":[],\n",
    "    \"Enemies Beaten\":[],\n",
    "    \"Total Enemies\":[],\n",
    "    \"Relative Beaten\":[]\n",
    "}\n",
    "for type_ in [\"S\", \"R\"]:\n",
    "    for round_ in range(10):\n",
    "        with open(\"./data/checkpoints/1_\"+str(2)+\"_\"+type_+\"_\"+str(round_)+\"/50.pkl\",\"rb\") as file_:\n",
    "            data = pkl.load(file_)[3]\n",
    "        for generation in range(len(data)):\n",
    "            for ind in range(len(data[generation])):\n",
    "                finalDataGroup2[\"Type\"].append(type_)\n",
    "                finalDataGroup2[\"Group\"].append(2)\n",
    "                finalDataGroup2[\"Round\"].append(round_)\n",
    "                finalDataGroup2[\"Generation\"].append(generation)\n",
    "                finalDataGroup2[\"Individual\"].append(ind)\n",
    "                for index, enemy in enumerate([3,5,7,8]):\n",
    "                    finalDataGroup2[\"Enemy\"+str(enemy)+\" Player Health\"].append(data[generation][ind][5][index])\n",
    "                    finalDataGroup2[\"Enemy\"+str(enemy)+\" Enemy Health\"].append(data[generation][ind][6][index])\n",
    "                    finalDataGroup2[\"Enemy\"+str(enemy)+\" Time\"].append(data[generation][ind][7][index])\n",
    "                finalDataGroup2[\"Sum Player Health\"].append(sum(data[generation][ind][5]))\n",
    "                finalDataGroup2[\"Sum Time\"].append(sum(data[generation][ind][7]))\n",
    "                finalDataGroup2[\"Enemies Beaten\"].append(len([e for e in data[generation][ind][6] if e == 0]))\n",
    "                finalDataGroup2[\"Total Enemies\"].append(4)\n",
    "                finalDataGroup2[\"Relative Beaten\"].append(len([e for e in data[generation][ind][6] if e == 0])/4)"
   ]
  },
  {
   "cell_type": "code",
   "execution_count": 9,
   "metadata": {},
   "outputs": [],
   "source": [
    "pd.DataFrame.from_dict(finalDataGroup1).to_csv(\"./data/CSV/parsedTrainingDataGroup1.csv\",index=False)\n",
    "pd.DataFrame.from_dict(finalDataGroup2).to_csv(\"./data/CSV/parsedTrainingDataGroup2.csv\",index=False)"
   ]
  }
 ],
 "metadata": {
  "kernelspec": {
   "display_name": "Python 3.9.12 ('base')",
   "language": "python",
   "name": "python3"
  },
  "language_info": {
   "codemirror_mode": {
    "name": "ipython",
    "version": 3
   },
   "file_extension": ".py",
   "mimetype": "text/x-python",
   "name": "python",
   "nbconvert_exporter": "python",
   "pygments_lexer": "ipython3",
   "version": "3.9.12"
  },
  "orig_nbformat": 4,
  "vscode": {
   "interpreter": {
    "hash": "168ac33d7fed9d5b3196e06ef6d47973ff2c7a5a83271123d49d0d89b9e94106"
   }
  }
 },
 "nbformat": 4,
 "nbformat_minor": 2
}
