{
 "cells": [
  {
   "cell_type": "code",
   "execution_count": 1,
   "metadata": {},
   "outputs": [],
   "source": [
    "import pandas as pd\n",
    "import numpy as np\n",
    "from deap import creator,base\n",
    "import pickle as pkl\n",
    "from tqdm import tqdm"
   ]
  },
  {
   "cell_type": "code",
   "execution_count": 2,
   "metadata": {},
   "outputs": [],
   "source": [
    "import random\n",
    "import string\n",
    "\n",
    "def get_random_string(length):\n",
    "    # choose from all lowercase letter\n",
    "    letters = string.ascii_lowercase\n",
    "    result_str = ''.join(random.choice(letters) for i in range(length))\n",
    "    # print(\"Random string of length\", length, \"is:\", result_str)\n",
    "    return result_str"
   ]
  },
  {
   "cell_type": "code",
   "execution_count": 3,
   "metadata": {},
   "outputs": [],
   "source": [
    "creator.create(\"Fitness\", base.Fitness, weights=(1.0,))      \n",
    "creator.create(\"IndividualContainer\", list, fitness=creator.Fitness)"
   ]
  },
  {
   "cell_type": "code",
   "execution_count": 4,
   "metadata": {},
   "outputs": [],
   "source": [
    "df = pd.read_csv(\"../data/CSV/trainingSpecialists.csv\").sort_values([\"EA\",\"Enemy\",\"Round\",\"Generation\",\"Individual\"])\n",
    "ids = [0]*df.shape[0]\n",
    "weights = [0]*df.shape[0]\n",
    "passedWeights = [0]*df.shape[0]"
   ]
  },
  {
   "cell_type": "code",
   "execution_count": 5,
   "metadata": {},
   "outputs": [
    {
     "name": "stderr",
     "output_type": "stream",
     "text": [
      "100%|██████████| 336000/336000 [02:24<00:00, 2331.74it/s]\n"
     ]
    }
   ],
   "source": [
    "index = 0\n",
    "with tqdm(total=df.shape[0]) as iterator:\n",
    "    for ea in range(1,3):\n",
    "        for enemy in range(1,9):\n",
    "            for rnd in range(10):\n",
    "                for generation in range(21):\n",
    "                    row = df.loc[(df[\"EA\"] == ea)&(df[\"Enemy\"] == enemy)&(df[\"Round\"] == rnd)&(df[\"Generation\"] == generation) &(df[\"Individual\"] == 0)]\n",
    "                    with open(\"../data/checkpoints/S\"+ str(int(row[\"EA\"])) + \"_\" + str(int(row[\"Enemy\"])) + \"_\" + str(int(row[\"Round\"])) + \"/\" + str(int(row[\"Generation\"])) + \".pkl\",\"rb\") as file_:\n",
    "                        pop = pkl.load(file_)[0]\n",
    "                    for individual in range(100):\n",
    "                        passedWeights[index] = pop[individual]\n",
    "                        index+=1\n",
    "                        iterator.update(1)"
   ]
  },
  {
   "cell_type": "code",
   "execution_count": 9,
   "metadata": {},
   "outputs": [
    {
     "data": {
      "text/plain": [
       "(336000, 265)"
      ]
     },
     "execution_count": 9,
     "metadata": {},
     "output_type": "execute_result"
    }
   ],
   "source": [
    "np.array(passedWeights).shape"
   ]
  },
  {
   "cell_type": "code",
   "execution_count": 14,
   "metadata": {},
   "outputs": [],
   "source": [
    "ids = [0]*df.shape[0]\n",
    "weights = [[0]*265]*df.shape[0]"
   ]
  },
  {
   "cell_type": "code",
   "execution_count": 15,
   "metadata": {},
   "outputs": [
    {
     "name": "stderr",
     "output_type": "stream",
     "text": [
      "  1%|          | 3552/336000 [00:33<51:30, 107.58it/s] \n"
     ]
    },
    {
     "ename": "KeyboardInterrupt",
     "evalue": "",
     "output_type": "error",
     "traceback": [
      "\u001b[0;31m---------------------------------------------------------------------------\u001b[0m",
      "\u001b[0;31mKeyboardInterrupt\u001b[0m                         Traceback (most recent call last)",
      "\u001b[1;32m/home/revess/projects/EVO/generalist/src/genIDS.ipynb Cell 8\u001b[0m in \u001b[0;36m<cell line: 1>\u001b[0;34m()\u001b[0m\n\u001b[1;32m      <a href='vscode-notebook-cell:/home/revess/projects/EVO/generalist/src/genIDS.ipynb#W6sZmlsZQ%3D%3D?line=7'>8</a>\u001b[0m             \u001b[39mbreak\u001b[39;00m\n\u001b[1;32m      <a href='vscode-notebook-cell:/home/revess/projects/EVO/generalist/src/genIDS.ipynb#W6sZmlsZQ%3D%3D?line=8'>9</a>\u001b[0m \u001b[39melse\u001b[39;00m:\n\u001b[0;32m---> <a href='vscode-notebook-cell:/home/revess/projects/EVO/generalist/src/genIDS.ipynb#W6sZmlsZQ%3D%3D?line=9'>10</a>\u001b[0m     ids[index] \u001b[39m=\u001b[39m ids[passedWeights\u001b[39m.\u001b[39mindex(weight)]\n\u001b[1;32m     <a href='vscode-notebook-cell:/home/revess/projects/EVO/generalist/src/genIDS.ipynb#W6sZmlsZQ%3D%3D?line=10'>11</a>\u001b[0m     weights[index] \u001b[39m=\u001b[39m weight\n",
      "\u001b[0;31mKeyboardInterrupt\u001b[0m: "
     ]
    }
   ],
   "source": [
    "for index, weight in tqdm(enumerate(passedWeights), total=len(weights)):\n",
    "    if weight not in weights:\n",
    "        weights[index] = weight\n",
    "        while True:\n",
    "            id = get_random_string(16)\n",
    "            if id not in ids:\n",
    "                ids[index] = id\n",
    "                break\n",
    "    else:\n",
    "        ids[index] = ids[passedWeights.index(weight)]\n",
    "        weights[index] = weight"
   ]
  },
  {
   "cell_type": "code",
   "execution_count": 13,
   "metadata": {},
   "outputs": [
    {
     "name": "stderr",
     "output_type": "stream",
     "text": [
      " 46%|████▌     | 155220/336000 [1:07:00<1:18:02, 38.61it/s]\n"
     ]
    },
    {
     "ename": "KeyboardInterrupt",
     "evalue": "",
     "output_type": "error",
     "traceback": [
      "\u001b[0;31m---------------------------------------------------------------------------\u001b[0m",
      "\u001b[0;31mKeyboardInterrupt\u001b[0m                         Traceback (most recent call last)",
      "\u001b[1;32m/home/revess/projects/EVO/generalist/src/genIDS.ipynb Cell 5\u001b[0m in \u001b[0;36m<cell line: 2>\u001b[0;34m()\u001b[0m\n\u001b[1;32m     <a href='vscode-notebook-cell:/home/revess/projects/EVO/generalist/src/genIDS.ipynb#W4sZmlsZQ%3D%3D?line=19'>20</a>\u001b[0m             \u001b[39mbreak\u001b[39;00m\n\u001b[1;32m     <a href='vscode-notebook-cell:/home/revess/projects/EVO/generalist/src/genIDS.ipynb#W4sZmlsZQ%3D%3D?line=20'>21</a>\u001b[0m \u001b[39melse\u001b[39;00m:\n\u001b[0;32m---> <a href='vscode-notebook-cell:/home/revess/projects/EVO/generalist/src/genIDS.ipynb#W4sZmlsZQ%3D%3D?line=21'>22</a>\u001b[0m     ids[index] \u001b[39m=\u001b[39m ids[weights\u001b[39m.\u001b[39;49mindex(weight)]\n\u001b[1;32m     <a href='vscode-notebook-cell:/home/revess/projects/EVO/generalist/src/genIDS.ipynb#W4sZmlsZQ%3D%3D?line=22'>23</a>\u001b[0m     weights[index] \u001b[39m=\u001b[39m weight\n\u001b[1;32m     <a href='vscode-notebook-cell:/home/revess/projects/EVO/generalist/src/genIDS.ipynb#W4sZmlsZQ%3D%3D?line=23'>24</a>\u001b[0m iterator\u001b[39m.\u001b[39mupdate(\u001b[39m1\u001b[39m)\n",
      "\u001b[0;31mKeyboardInterrupt\u001b[0m: "
     ]
    }
   ],
   "source": [
    "index = 0\n",
    "with tqdm(total=df.shape[0]) as iterator:\n",
    "    for ea in range(1,3):\n",
    "        for enemy in range(1,9):\n",
    "            for rnd in range(10):\n",
    "                for generation in range(21):\n",
    "                    row = df.loc[(df[\"EA\"] == ea)&(df[\"Enemy\"] == enemy)&(df[\"Round\"] == rnd)&(df[\"Generation\"] == generation) &(df[\"Individual\"] == 0)]\n",
    "                    with open(\"../data/checkpoints/S\"+ str(int(row[\"EA\"])) + \"_\" + str(int(row[\"Enemy\"])) + \"_\" + str(int(row[\"Round\"])) + \"/\" + str(int(row[\"Generation\"])) + \".pkl\",\"rb\") as file_:\n",
    "                        pop = pkl.load(file_)[0]\n",
    "                    for individual in range(100):\n",
    "                        weight = pop[individual]\n",
    "                        if weight not in passedWeights:\n",
    "                            weights[index] = weight\n",
    "                            passedWeights[index] = weight\n",
    "                            while True:\n",
    "                                id = get_random_string(16)\n",
    "                                if id not in passedIds:\n",
    "                                    ids[index] = id\n",
    "                                    passedIds[index] = id\n",
    "                                    break\n",
    "                        else:\n",
    "                            ids[index] = ids[weights.index(weight)]\n",
    "                            weights[index] = weight\n",
    "                        iterator.update(1)\n",
    "                        index+=1"
   ]
  },
  {
   "cell_type": "code",
   "execution_count": 6,
   "metadata": {},
   "outputs": [],
   "source": [
    "# with open(\"./ids.pkl\", \"wb\") as file_\n",
    "#     pkl.dump(ids,file_)"
   ]
  }
 ],
 "metadata": {
  "kernelspec": {
   "display_name": "Python 3.9.12 ('base')",
   "language": "python",
   "name": "python3"
  },
  "language_info": {
   "codemirror_mode": {
    "name": "ipython",
    "version": 3
   },
   "file_extension": ".py",
   "mimetype": "text/x-python",
   "name": "python",
   "nbconvert_exporter": "python",
   "pygments_lexer": "ipython3",
   "version": "3.9.12"
  },
  "orig_nbformat": 4,
  "vscode": {
   "interpreter": {
    "hash": "168ac33d7fed9d5b3196e06ef6d47973ff2c7a5a83271123d49d0d89b9e94106"
   }
  }
 },
 "nbformat": 4,
 "nbformat_minor": 2
}
