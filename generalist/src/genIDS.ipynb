{
 "cells": [
  {
   "cell_type": "code",
   "execution_count": 1,
   "metadata": {},
   "outputs": [],
   "source": [
    "import pandas as pd\n",
    "import numpy as np\n",
    "from deap import creator,base\n",
    "import pickle as pkl\n",
    "from tqdm import tqdm"
   ]
  },
  {
   "cell_type": "code",
   "execution_count": 2,
   "metadata": {},
   "outputs": [],
   "source": [
    "import random\n",
    "import string\n",
    "\n",
    "def get_random_string(length):\n",
    "    # choose from all lowercase letter\n",
    "    letters = string.ascii_lowercase\n",
    "    result_str = ''.join(random.choice(letters) for i in range(length))\n",
    "    # print(\"Random string of length\", length, \"is:\", result_str)\n",
    "    return result_str"
   ]
  },
  {
   "cell_type": "code",
   "execution_count": 3,
   "metadata": {},
   "outputs": [],
   "source": [
    "creator.create(\"Fitness\", base.Fitness, weights=(1.0,))      \n",
    "creator.create(\"IndividualContainer\", list, fitness=creator.Fitness)"
   ]
  },
  {
   "cell_type": "code",
   "execution_count": 4,
   "metadata": {},
   "outputs": [],
   "source": [
    "df = pd.read_csv(\"./data/CSV/trainingSpecialists.csv\").sort_values([\"EA\",\"Enemy\",\"Round\",\"Generation\",\"Individual\"])\n",
    "ids = [0]*df.shape[0]\n",
    "weights = [0]*df.shape[0]\n",
    "passedWeights = [0]*df.shape[0]\n",
    "passedIds = [0]*df.shape[0]"
   ]
  },
  {
   "cell_type": "code",
   "execution_count": 5,
   "metadata": {},
   "outputs": [],
   "source": [
    "# index = 0\n",
    "# with tqdm(total=df.shape[0]) as iterator:\n",
    "#     for ea in range(1,3):\n",
    "#         for enemy in range(1,9):\n",
    "#             for rnd in range(10):\n",
    "#                 for generation in range(21):\n",
    "#                     row = df.loc[(df[\"EA\"] == ea)&(df[\"Enemy\"] == enemy)&(df[\"Round\"] == rnd)&(df[\"Generation\"] == generation) &(df[\"Individual\"] == 0)]\n",
    "#                     with open(\"./data/checkpoints/S\"+ str(int(row[\"EA\"])) + \"_\" + str(int(row[\"Enemy\"])) + \"_\" + str(int(row[\"Round\"])) + \"/\" + str(int(row[\"Generation\"])) + \".pkl\",\"rb\") as file_:\n",
    "#                         pop = pkl.load(file_)[0]\n",
    "#                     for individual in range(100):\n",
    "#                         weight = pop[individual]\n",
    "#                         if weight not in passedWeights:\n",
    "#                             weights[index] = weight\n",
    "#                             passedWeights[index] = weight\n",
    "#                             while True:\n",
    "#                                 id = get_random_string(16)\n",
    "#                                 if id not in passedIds:\n",
    "#                                     ids[index] = id\n",
    "#                                     passedIds[index] = id\n",
    "#                                     break\n",
    "#                         else:\n",
    "#                             ids[index] = ids[weights.index(weight)]\n",
    "#                             weights[index] = weight\n",
    "#                         iterator.update(1)\n",
    "#                         index+=1"
   ]
  },
  {
   "cell_type": "code",
   "execution_count": 6,
   "metadata": {},
   "outputs": [],
   "source": [
    "# with open(\"./ids.pkl\", \"wb\") as file_\n",
    "#     pkl.dump(ids,file_)"
   ]
  },
  {
   "cell_type": "code",
   "execution_count": 16,
   "metadata": {},
   "outputs": [
    {
     "name": "stderr",
     "output_type": "stream",
     "text": [
      "3383901it [00:00, 33339071.46it/s]        "
     ]
    },
    {
     "name": "stdout",
     "output_type": "stream",
     "text": [
      "1\n"
     ]
    },
    {
     "name": "stderr",
     "output_type": "stream",
     "text": [
      "14878383751it [00:04, 5755624277.11it/s]"
     ]
    },
    {
     "name": "stdout",
     "output_type": "stream",
     "text": [
      "2\n",
      "2 1 0 0\n",
      "2 1 1 0\n",
      "2 1 2 0\n",
      "2 1 3 0\n",
      "2 1 4 0\n",
      "2 1 5 0\n",
      "2 1 6 0\n",
      "2 1 7 0\n",
      "2 1 8 0\n",
      "2 1 9 0\n"
     ]
    },
    {
     "name": "stderr",
     "output_type": "stream",
     "text": [
      "49612657500it [00:08, 5807055688.84it/s] \n"
     ]
    }
   ],
   "source": [
    "index = 0\n",
    "with tqdm(total=df.shape[0]) as iterator:\n",
    "    for ea in range(1,3):\n",
    "        for enemy in range(1,9):\n",
    "            for rnd in range(10):\n",
    "                for generation in range(21):\n",
    "                    row = df.loc[(df[\"EA\"] == ea)&(df[\"Enemy\"] == enemy)&(df[\"Round\"] == rnd)&(df[\"Generation\"] == generation) &(df[\"Individual\"] == 0)]\n",
    "                    try:\n",
    "                        \"./data/checkpoints/S\"+ str(int(row[\"EA\"])) + \"_\" + str(int(row[\"Enemy\"])) + \"_\" + str(int(row[\"Round\"])) + \"/\" + str(int(row[\"Generation\"])) + \".pkl\"\n",
    "                    except:\n",
    "                        print(ea,enemy,rnd,generation)\n",
    "                        break\n",
    "\n",
    "                    # with open(\"./data/checkpoints/S\"+ str(int(row[\"EA\"])) + \"_\" + str(int(row[\"Enemy\"])) + \"_\" + str(int(row[\"Round\"])) + \"/\" + str(int(row[\"Generation\"])) + \".pkl\",\"rb\") as file_:\n",
    "                    #     pop = pkl.load(file_)[0]\n",
    "                    # for individual in range(100):\n",
    "                    #     weight = pop[individual]\n",
    "                    for i in range(100):\n",
    "                        index+=1\n",
    "                        iterator.update(index)"
   ]
  },
  {
   "cell_type": "code",
   "execution_count": null,
   "metadata": {},
   "outputs": [],
   "source": [
    "weights = np.array(weights)"
   ]
  },
  {
   "cell_type": "code",
   "execution_count": null,
   "metadata": {},
   "outputs": [],
   "source": [
    "weights.shape,weights.unique().shape"
   ]
  }
 ],
 "metadata": {
  "kernelspec": {
   "display_name": "Python 3.9.12 ('base')",
   "language": "python",
   "name": "python3"
  },
  "language_info": {
   "codemirror_mode": {
    "name": "ipython",
    "version": 3
   },
   "file_extension": ".py",
   "mimetype": "text/x-python",
   "name": "python",
   "nbconvert_exporter": "python",
   "pygments_lexer": "ipython3",
   "version": "3.9.12"
  },
  "orig_nbformat": 4,
  "vscode": {
   "interpreter": {
    "hash": "168ac33d7fed9d5b3196e06ef6d47973ff2c7a5a83271123d49d0d89b9e94106"
   }
  }
 },
 "nbformat": 4,
 "nbformat_minor": 2
}
