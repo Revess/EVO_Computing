{
 "cells": [
  {
   "cell_type": "code",
   "execution_count": 1,
   "metadata": {},
   "outputs": [],
   "source": [
    "import pandas as pd\n",
    "import pickle as pkl"
   ]
  },
  {
   "cell_type": "code",
   "execution_count": 3,
   "metadata": {},
   "outputs": [],
   "source": [
    "df = pd.read_csv(\"./data/CSV/trainingGeneralists.csv\")"
   ]
  },
  {
   "cell_type": "code",
   "execution_count": 4,
   "metadata": {},
   "outputs": [],
   "source": [
    "newData = {\"EA\":[],\"Group\":[],\"Fitness\":[]}"
   ]
  },
  {
   "cell_type": "code",
   "execution_count": 5,
   "metadata": {},
   "outputs": [],
   "source": [
    "for num, dat in df.iterrows():\n",
    "    newData[\"EA\"].append(dat[\"EA\"])\n",
    "    newData[\"Group\"].append(str(dat[\"Group\"])+str(dat[\"Type\"]))\n",
    "    newData[\"Fitness\"].append(dat[\"Fitness\"])"
   ]
  },
  {
   "cell_type": "code",
   "execution_count": 6,
   "metadata": {},
   "outputs": [],
   "source": [
    "newData = pd.DataFrame.from_dict(newData)"
   ]
  },
  {
   "cell_type": "markdown",
   "metadata": {},
   "source": [
    "Test Specialists"
   ]
  },
  {
   "cell_type": "code",
   "execution_count": 43,
   "metadata": {},
   "outputs": [],
   "source": [
    "df = pd.read_csv(\"./data/CSV/testScoresSpecialists.csv\")\n",
    "newData = {\"EA\":[],\"Group\":[],\"Fitness\":[]}"
   ]
  },
  {
   "cell_type": "code",
   "execution_count": 44,
   "metadata": {},
   "outputs": [
    {
     "name": "stderr",
     "output_type": "stream",
     "text": [
      "/tmp/ipykernel_480686/2728169956.py:4: FutureWarning: Dropping of nuisance columns in DataFrame reductions (with 'numeric_only=None') is deprecated; in a future version this will raise TypeError.  Select only valid columns before calling the reduction.\n",
      "  dat = df.loc[(df[\"EA\"] == ea) & (df[\"Enemy\"] == enemy) & (df[\"Training Round\"] == trnd)].mean()\n"
     ]
    }
   ],
   "source": [
    "for ea in [1,2]:\n",
    "    for enemy in [1,2,3,4,5,6,7,8]:\n",
    "        for trnd in [0,1,2,3,4,5,6,7,8,9]:\n",
    "            dat = df.loc[(df[\"EA\"] == ea) & (df[\"Enemy\"] == enemy) & (df[\"Training Round\"] == trnd)].mean()\n",
    "            newData[\"EA\"].append(ea)\n",
    "            newData[\"Group\"].append(str(enemy))\n",
    "            newData[\"Fitness\"].append(dat[\"Fitness\"])"
   ]
  },
  {
   "cell_type": "code",
   "execution_count": 45,
   "metadata": {},
   "outputs": [],
   "source": [
    "newData = pd.DataFrame.from_dict(newData)"
   ]
  },
  {
   "cell_type": "code",
   "execution_count": 49,
   "metadata": {},
   "outputs": [
    {
     "data": {
      "text/html": [
       "<div>\n",
       "<style scoped>\n",
       "    .dataframe tbody tr th:only-of-type {\n",
       "        vertical-align: middle;\n",
       "    }\n",
       "\n",
       "    .dataframe tbody tr th {\n",
       "        vertical-align: top;\n",
       "    }\n",
       "\n",
       "    .dataframe thead th {\n",
       "        text-align: right;\n",
       "    }\n",
       "</style>\n",
       "<table border=\"1\" class=\"dataframe\">\n",
       "  <thead>\n",
       "    <tr style=\"text-align: right;\">\n",
       "      <th></th>\n",
       "      <th>EA</th>\n",
       "      <th>Group</th>\n",
       "      <th>Fitness</th>\n",
       "    </tr>\n",
       "  </thead>\n",
       "  <tbody>\n",
       "    <tr>\n",
       "      <th>0</th>\n",
       "      <td>1</td>\n",
       "      <td>1</td>\n",
       "      <td>15.807199</td>\n",
       "    </tr>\n",
       "    <tr>\n",
       "      <th>1</th>\n",
       "      <td>1</td>\n",
       "      <td>1</td>\n",
       "      <td>-5.068199</td>\n",
       "    </tr>\n",
       "    <tr>\n",
       "      <th>2</th>\n",
       "      <td>1</td>\n",
       "      <td>1</td>\n",
       "      <td>53.538544</td>\n",
       "    </tr>\n",
       "    <tr>\n",
       "      <th>3</th>\n",
       "      <td>1</td>\n",
       "      <td>1</td>\n",
       "      <td>7.297964</td>\n",
       "    </tr>\n",
       "    <tr>\n",
       "      <th>4</th>\n",
       "      <td>1</td>\n",
       "      <td>1</td>\n",
       "      <td>59.766180</td>\n",
       "    </tr>\n",
       "    <tr>\n",
       "      <th>...</th>\n",
       "      <td>...</td>\n",
       "      <td>...</td>\n",
       "      <td>...</td>\n",
       "    </tr>\n",
       "    <tr>\n",
       "      <th>155</th>\n",
       "      <td>2</td>\n",
       "      <td>8</td>\n",
       "      <td>86.328900</td>\n",
       "    </tr>\n",
       "    <tr>\n",
       "      <th>156</th>\n",
       "      <td>2</td>\n",
       "      <td>8</td>\n",
       "      <td>86.734129</td>\n",
       "    </tr>\n",
       "    <tr>\n",
       "      <th>157</th>\n",
       "      <td>2</td>\n",
       "      <td>8</td>\n",
       "      <td>73.576983</td>\n",
       "    </tr>\n",
       "    <tr>\n",
       "      <th>158</th>\n",
       "      <td>2</td>\n",
       "      <td>8</td>\n",
       "      <td>86.496467</td>\n",
       "    </tr>\n",
       "    <tr>\n",
       "      <th>159</th>\n",
       "      <td>2</td>\n",
       "      <td>8</td>\n",
       "      <td>86.617649</td>\n",
       "    </tr>\n",
       "  </tbody>\n",
       "</table>\n",
       "<p>160 rows × 3 columns</p>\n",
       "</div>"
      ],
      "text/plain": [
       "     EA Group    Fitness\n",
       "0     1     1  15.807199\n",
       "1     1     1  -5.068199\n",
       "2     1     1  53.538544\n",
       "3     1     1   7.297964\n",
       "4     1     1  59.766180\n",
       "..   ..   ...        ...\n",
       "155   2     8  86.328900\n",
       "156   2     8  86.734129\n",
       "157   2     8  73.576983\n",
       "158   2     8  86.496467\n",
       "159   2     8  86.617649\n",
       "\n",
       "[160 rows x 3 columns]"
      ]
     },
     "execution_count": 49,
     "metadata": {},
     "output_type": "execute_result"
    }
   ],
   "source": [
    "newData"
   ]
  },
  {
   "cell_type": "code",
   "execution_count": 56,
   "metadata": {},
   "outputs": [
    {
     "name": "stdout",
     "output_type": "stream",
     "text": [
      "EA 1 60.745821755503094\n",
      "EA 1 92.13310478355905\n",
      "EA 1 69.91809984405738\n",
      "EA 1 35.04762789943933\n",
      "EA 1 92.26619090530082\n",
      "EA 1 67.6348640486711\n",
      "EA 1 88.39457483642549\n",
      "EA 1 89.63509831975409\n",
      "EA 2 77.8380183497735\n",
      "EA 2 91.88555829435174\n",
      "EA 2 73.45283101703316\n",
      "EA 2 72.39212066557474\n",
      "EA 2 93.55570064900925\n",
      "EA 2 88.05221271063172\n",
      "EA 2 72.18885074046672\n",
      "EA 2 89.32645713854455\n"
     ]
    }
   ],
   "source": [
    "for ea in [1,2]:\n",
    "    for enemy in [1,2,3,4,5,6,7,8]:\n",
    "        print(\"EA\",ea,newData.loc[(newData[\"EA\"] == ea) & (newData[\"Group\"] == str(enemy))][\"Fitness\"].max())"
   ]
  },
  {
   "cell_type": "code",
   "execution_count": 18,
   "metadata": {},
   "outputs": [],
   "source": [
    "pd.DataFrame.from_dict(newData).to_csv(\"./specialistsTestRes.csv\",index=False)"
   ]
  },
  {
   "cell_type": "code",
   "execution_count": 25,
   "metadata": {},
   "outputs": [],
   "source": [
    "df = pd.read_csv(\"./data/CSV/testScoresGeneralists.csv\")\n",
    "newData = {\"EA\":[],\"Group\":[],\"Fitness\":[]}"
   ]
  },
  {
   "cell_type": "code",
   "execution_count": 26,
   "metadata": {},
   "outputs": [
    {
     "name": "stderr",
     "output_type": "stream",
     "text": [
      "/tmp/ipykernel_485875/76806096.py:5: FutureWarning: Dropping of nuisance columns in DataFrame reductions (with 'numeric_only=None') is deprecated; in a future version this will raise TypeError.  Select only valid columns before calling the reduction.\n",
      "  dat = df.loc[(df[\"EA\"] == ea) & (df[\"Group\"] == group) & (df[\"Type\"] == type_) & (df[\"Training Round\"] == trnd)].mean()\n"
     ]
    }
   ],
   "source": [
    "for ea in [1,2]:\n",
    "    for group in [1,2]:\n",
    "        for type_ in [\"S\", \"R\"]:\n",
    "            for trnd in [0,1,2,3,4,5,6,7,8,9]:\n",
    "                dat = df.loc[(df[\"EA\"] == ea) & (df[\"Group\"] == group) & (df[\"Type\"] == type_) & (df[\"Training Round\"] == trnd)].mean()\n",
    "                newData[\"EA\"].append(ea)\n",
    "                newData[\"Group\"].append(str(int(dat[\"Group\"]))+type_)\n",
    "                newData[\"Fitness\"].append(dat[\"Fitness\"])"
   ]
  },
  {
   "cell_type": "code",
   "execution_count": 27,
   "metadata": {},
   "outputs": [],
   "source": [
    "pd.DataFrame.from_dict(newData).to_csv(\"./generalistsTestRes.csv\",index=False)"
   ]
  }
 ],
 "metadata": {
  "kernelspec": {
   "display_name": "Python 3.9.12 ('base')",
   "language": "python",
   "name": "python3"
  },
  "language_info": {
   "codemirror_mode": {
    "name": "ipython",
    "version": 3
   },
   "file_extension": ".py",
   "mimetype": "text/x-python",
   "name": "python",
   "nbconvert_exporter": "python",
   "pygments_lexer": "ipython3",
   "version": "3.9.12"
  },
  "orig_nbformat": 4,
  "vscode": {
   "interpreter": {
    "hash": "168ac33d7fed9d5b3196e06ef6d47973ff2c7a5a83271123d49d0d89b9e94106"
   }
  }
 },
 "nbformat": 4,
 "nbformat_minor": 2
}
