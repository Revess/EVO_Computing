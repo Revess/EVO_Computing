{
 "cells": [
  {
   "cell_type": "code",
   "execution_count": 57,
   "metadata": {},
   "outputs": [],
   "source": [
    "import sys, os\n",
    "sys.path.insert(0, 'evoman') \n",
    "import pickle as pkl\n",
    "import pandas as pd\n",
    "import numpy as np\n",
    "from deap import creator, base\n",
    "from environment import Environment\n",
    "from demo_controller import player_controller, enemy_controller\n",
    "from math import tanh"
   ]
  },
  {
   "cell_type": "code",
   "execution_count": 58,
   "metadata": {},
   "outputs": [
    {
     "name": "stderr",
     "output_type": "stream",
     "text": [
      "c:\\Users\\bjmaa\\anaconda3\\lib\\site-packages\\deap\\creator.py:138: RuntimeWarning: A class named 'Fitness' has already been created and it will be overwritten. Consider deleting previous creation of that class or rename it.\n",
      "  warnings.warn(\"A class named '{0}' has already been created and it \"\n",
      "c:\\Users\\bjmaa\\anaconda3\\lib\\site-packages\\deap\\creator.py:138: RuntimeWarning: A class named 'IndividualContainer' has already been created and it will be overwritten. Consider deleting previous creation of that class or rename it.\n",
      "  warnings.warn(\"A class named '{0}' has already been created and it \"\n"
     ]
    }
   ],
   "source": [
    "creator.create(\"Fitness\", base.Fitness, weights=(1.0,))      \n",
    "creator.create(\"IndividualContainer\", list, fitness=creator.Fitness)"
   ]
  },
  {
   "cell_type": "code",
   "execution_count": 59,
   "metadata": {},
   "outputs": [],
   "source": [
    "env = Environment(\n",
    "    multiplemode=\"yes\",\n",
    "    enemies=[3,6,7],\n",
    "    level=2,\n",
    "    speed=\"normal\",\n",
    "    sound=\"off\",\n",
    "    logs=\"off\",\n",
    "    savelogs=\"no\",\n",
    "    timeexpire=3000,\n",
    "    clockprec=\"low\",\n",
    "    player_controller=player_controller(150)\n",
    ")"
   ]
  },
  {
   "cell_type": "code",
   "execution_count": 60,
   "metadata": {},
   "outputs": [],
   "source": [
    "df = pd.read_csv(\"./finalData.csv\")"
   ]
  },
  {
   "cell_type": "code",
   "execution_count": 61,
   "metadata": {},
   "outputs": [],
   "source": [
    "bestEnemy2E1 = [0]*10\n",
    "bestEnemy5E1 = [0]*10\n",
    "bestEnemy8E1 = [0]*10\n",
    "\n",
    "for run in range(10):\n",
    "    tdf = df.loc[(df[\"evo\"] == 0) & (df[\"enemy\"] == 2) & (df[\"run\"] == run) & (df[\"generation\"] == 20)].nlargest(1,\"fitness\")\n",
    "    with open(\"./populations/\" + str(tdf[\"evo\"].iloc[0]) + \"_\" + str(tdf[\"enemy\"].iloc[0]) + \"_\" + str(tdf[\"run\"].iloc[0]) + \".pkl\", \"rb\") as file_:\n",
    "        individual = pkl.load(file_)[tdf[\"individual\"].iloc[0]]\n",
    "    bestEnemy2E1[run] = individual\n",
    "\n",
    "for run in range(10):\n",
    "    tdf = df.loc[(df[\"evo\"] == 0) & (df[\"enemy\"] == 5) & (df[\"run\"] == run) & (df[\"generation\"] == 20)].nlargest(1,\"fitness\")\n",
    "    with open(\"./populations/\" + str(tdf[\"evo\"].iloc[0]) + \"_\" + str(tdf[\"enemy\"].iloc[0]) + \"_\" + str(tdf[\"run\"].iloc[0]) + \".pkl\", \"rb\") as file_:\n",
    "        individual = pkl.load(file_)[tdf[\"individual\"].iloc[0]]\n",
    "    bestEnemy5E1[run] = individual\n",
    "\n",
    "for run in range(10):\n",
    "    tdf = df.loc[(df[\"evo\"] == 0) & (df[\"enemy\"] == 8) & (df[\"run\"] == run) & (df[\"generation\"] == 20)].nlargest(1,\"fitness\")\n",
    "    with open(\"./populations/\" + str(tdf[\"evo\"].iloc[0]) + \"_\" + str(tdf[\"enemy\"].iloc[0]) + \"_\" + str(tdf[\"run\"].iloc[0]) + \".pkl\", \"rb\") as file_:\n",
    "        individual = pkl.load(file_)[tdf[\"individual\"].iloc[0]]\n",
    "    bestEnemy8E1[run] = individual"
   ]
  },
  {
   "cell_type": "code",
   "execution_count": 62,
   "metadata": {},
   "outputs": [],
   "source": [
    "bestEnemy2E2 = [0]*10\n",
    "bestEnemy5E2 = [0]*10\n",
    "bestEnemy8E2 = [0]*10\n",
    "\n",
    "for run in range(10):\n",
    "    tdf = df.loc[(df[\"evo\"] == 1) & (df[\"enemy\"] == 2) & (df[\"run\"] == run) & (df[\"generation\"] == 20)].nlargest(1,\"fitness\")\n",
    "    with open(\"./populations/\" + str(tdf[\"evo\"].iloc[0]) + \"_\" + str(tdf[\"enemy\"].iloc[0]) + \"_\" + str(tdf[\"run\"].iloc[0]) + \".pkl\", \"rb\") as file_:\n",
    "        individual = pkl.load(file_)[tdf[\"individual\"].iloc[0]]\n",
    "    bestEnemy2E2[run] = individual\n",
    "\n",
    "for run in range(10):\n",
    "    tdf = df.loc[(df[\"evo\"] == 1) & (df[\"enemy\"] == 5) & (df[\"run\"] == run) & (df[\"generation\"] == 20)].nlargest(1,\"fitness\")\n",
    "    with open(\"./populations/\" + str(tdf[\"evo\"].iloc[0]) + \"_\" + str(tdf[\"enemy\"].iloc[0]) + \"_\" + str(tdf[\"run\"].iloc[0]) + \".pkl\", \"rb\") as file_:\n",
    "        individual = pkl.load(file_)[tdf[\"individual\"].iloc[0]]\n",
    "    bestEnemy5E2[run] = individual\n",
    "\n",
    "for run in range(10):\n",
    "    tdf = df.loc[(df[\"evo\"] == 1) & (df[\"enemy\"] == 8) & (df[\"run\"] == run) & (df[\"generation\"] == 20)].nlargest(1,\"fitness\")\n",
    "    with open(\"./populations/\" + str(tdf[\"evo\"].iloc[0]) + \"_\" + str(tdf[\"enemy\"].iloc[0]) + \"_\" + str(tdf[\"run\"].iloc[0]) + \".pkl\", \"rb\") as file_:\n",
    "        individual = pkl.load(file_)[tdf[\"individual\"].iloc[0]]\n",
    "    bestEnemy8E2[run] = individual"
   ]
  },
  {
   "cell_type": "code",
   "execution_count": 63,
   "metadata": {},
   "outputs": [],
   "source": [
    "allRuns = {\n",
    "    \"0_2\":bestEnemy2E1,\n",
    "    \"0_5\":bestEnemy5E1,\n",
    "    \"0_8\":bestEnemy8E1,\n",
    "    \"1_2\":bestEnemy2E2,\n",
    "    \"1_5\":bestEnemy5E2,\n",
    "    \"1_8\":bestEnemy8E2\n",
    "    }"
   ]
  },
  {
   "cell_type": "code",
   "execution_count": 64,
   "metadata": {},
   "outputs": [
    {
     "ename": "ValueError",
     "evalue": "cannot reshape array of size 2455 into shape (20,150)",
     "output_type": "error",
     "traceback": [
      "\u001b[1;31m---------------------------------------------------------------------------\u001b[0m",
      "\u001b[1;31mValueError\u001b[0m                                Traceback (most recent call last)",
      "\u001b[1;32m~\\AppData\\Local\\Temp/ipykernel_23508/1954665734.py\u001b[0m in \u001b[0;36m<module>\u001b[1;34m\u001b[0m\n\u001b[0;32m      1\u001b[0m \u001b[1;32mfor\u001b[0m \u001b[0mrun\u001b[0m \u001b[1;32min\u001b[0m \u001b[0mallRuns\u001b[0m\u001b[1;33m.\u001b[0m\u001b[0mkeys\u001b[0m\u001b[1;33m(\u001b[0m\u001b[1;33m)\u001b[0m\u001b[1;33m:\u001b[0m\u001b[1;33m\u001b[0m\u001b[1;33m\u001b[0m\u001b[0m\n\u001b[0;32m      2\u001b[0m     \u001b[1;32mfor\u001b[0m \u001b[0mindividual\u001b[0m \u001b[1;32min\u001b[0m \u001b[0mallRuns\u001b[0m\u001b[1;33m[\u001b[0m\u001b[0mrun\u001b[0m\u001b[1;33m]\u001b[0m\u001b[1;33m:\u001b[0m\u001b[1;33m\u001b[0m\u001b[1;33m\u001b[0m\u001b[0m\n\u001b[1;32m----> 3\u001b[1;33m         \u001b[0menv\u001b[0m\u001b[1;33m.\u001b[0m\u001b[0mplay\u001b[0m\u001b[1;33m(\u001b[0m\u001b[0mpcont\u001b[0m\u001b[1;33m=\u001b[0m\u001b[0mnp\u001b[0m\u001b[1;33m.\u001b[0m\u001b[0marray\u001b[0m\u001b[1;33m(\u001b[0m\u001b[0mindividual\u001b[0m\u001b[1;33m)\u001b[0m\u001b[1;33m)\u001b[0m\u001b[1;33m\u001b[0m\u001b[1;33m\u001b[0m\u001b[0m\n\u001b[0m",
      "\u001b[1;32mc:\\projects\\EVO\\evoman\\environment.py\u001b[0m in \u001b[0;36mplay\u001b[1;34m(self, pcont, econt)\u001b[0m\n\u001b[0;32m    602\u001b[0m \u001b[1;33m\u001b[0m\u001b[0m\n\u001b[0;32m    603\u001b[0m         \u001b[1;32mif\u001b[0m \u001b[0mself\u001b[0m\u001b[1;33m.\u001b[0m\u001b[0mmultiplemode\u001b[0m \u001b[1;33m==\u001b[0m \u001b[1;34m\"yes\"\u001b[0m\u001b[1;33m:\u001b[0m\u001b[1;33m\u001b[0m\u001b[1;33m\u001b[0m\u001b[0m\n\u001b[1;32m--> 604\u001b[1;33m             \u001b[1;32mreturn\u001b[0m \u001b[0mself\u001b[0m\u001b[1;33m.\u001b[0m\u001b[0mmultiple\u001b[0m\u001b[1;33m(\u001b[0m\u001b[0mpcont\u001b[0m\u001b[1;33m,\u001b[0m\u001b[0mecont\u001b[0m\u001b[1;33m)\u001b[0m\u001b[1;33m\u001b[0m\u001b[1;33m\u001b[0m\u001b[0m\n\u001b[0m\u001b[0;32m    605\u001b[0m         \u001b[1;32melse\u001b[0m\u001b[1;33m:\u001b[0m\u001b[1;33m\u001b[0m\u001b[1;33m\u001b[0m\u001b[0m\n\u001b[0;32m    606\u001b[0m             \u001b[1;32mreturn\u001b[0m \u001b[0mself\u001b[0m\u001b[1;33m.\u001b[0m\u001b[0mrun_single\u001b[0m\u001b[1;33m(\u001b[0m\u001b[0mself\u001b[0m\u001b[1;33m.\u001b[0m\u001b[0menemies\u001b[0m\u001b[1;33m[\u001b[0m\u001b[1;36m0\u001b[0m\u001b[1;33m]\u001b[0m\u001b[1;33m,\u001b[0m\u001b[0mpcont\u001b[0m\u001b[1;33m,\u001b[0m\u001b[0mecont\u001b[0m\u001b[1;33m)\u001b[0m\u001b[1;33m\u001b[0m\u001b[1;33m\u001b[0m\u001b[0m\n",
      "\u001b[1;32mc:\\projects\\EVO\\evoman\\environment.py\u001b[0m in \u001b[0;36mmultiple\u001b[1;34m(self, pcont, econt)\u001b[0m\n\u001b[0;32m    584\u001b[0m         \u001b[1;32mfor\u001b[0m \u001b[0me\u001b[0m \u001b[1;32min\u001b[0m \u001b[0mself\u001b[0m\u001b[1;33m.\u001b[0m\u001b[0menemies\u001b[0m\u001b[1;33m:\u001b[0m\u001b[1;33m\u001b[0m\u001b[1;33m\u001b[0m\u001b[0m\n\u001b[0;32m    585\u001b[0m \u001b[1;33m\u001b[0m\u001b[0m\n\u001b[1;32m--> 586\u001b[1;33m             \u001b[0mfitness\u001b[0m\u001b[1;33m,\u001b[0m \u001b[0mplayerlife\u001b[0m\u001b[1;33m,\u001b[0m \u001b[0menemylife\u001b[0m\u001b[1;33m,\u001b[0m \u001b[0mtime\u001b[0m  \u001b[1;33m=\u001b[0m \u001b[0mself\u001b[0m\u001b[1;33m.\u001b[0m\u001b[0mrun_single\u001b[0m\u001b[1;33m(\u001b[0m\u001b[0me\u001b[0m\u001b[1;33m,\u001b[0m\u001b[0mpcont\u001b[0m\u001b[1;33m,\u001b[0m\u001b[0mecont\u001b[0m\u001b[1;33m)\u001b[0m\u001b[1;33m\u001b[0m\u001b[1;33m\u001b[0m\u001b[0m\n\u001b[0m\u001b[0;32m    587\u001b[0m             \u001b[0mvfitness\u001b[0m\u001b[1;33m.\u001b[0m\u001b[0mappend\u001b[0m\u001b[1;33m(\u001b[0m\u001b[0mfitness\u001b[0m\u001b[1;33m)\u001b[0m\u001b[1;33m\u001b[0m\u001b[1;33m\u001b[0m\u001b[0m\n\u001b[0;32m    588\u001b[0m             \u001b[0mvplayerlife\u001b[0m\u001b[1;33m.\u001b[0m\u001b[0mappend\u001b[0m\u001b[1;33m(\u001b[0m\u001b[0mplayerlife\u001b[0m\u001b[1;33m)\u001b[0m\u001b[1;33m\u001b[0m\u001b[1;33m\u001b[0m\u001b[0m\n",
      "\u001b[1;32mc:\\projects\\EVO\\evoman\\environment.py\u001b[0m in \u001b[0;36mrun_single\u001b[1;34m(self, enemyn, pcont, econt)\u001b[0m\n\u001b[0;32m    474\u001b[0m             \u001b[1;31m# updates objects and draws its itens on screen\u001b[0m\u001b[1;33m\u001b[0m\u001b[1;33m\u001b[0m\u001b[0m\n\u001b[0;32m    475\u001b[0m             \u001b[0mself\u001b[0m\u001b[1;33m.\u001b[0m\u001b[0mscreen\u001b[0m\u001b[1;33m.\u001b[0m\u001b[0mfill\u001b[0m\u001b[1;33m(\u001b[0m\u001b[1;33m(\u001b[0m\u001b[1;36m250\u001b[0m\u001b[1;33m,\u001b[0m\u001b[1;36m250\u001b[0m\u001b[1;33m,\u001b[0m\u001b[1;36m250\u001b[0m\u001b[1;33m)\u001b[0m\u001b[1;33m)\u001b[0m\u001b[1;33m\u001b[0m\u001b[1;33m\u001b[0m\u001b[0m\n\u001b[1;32m--> 476\u001b[1;33m             \u001b[0mself\u001b[0m\u001b[1;33m.\u001b[0m\u001b[0mtilemap\u001b[0m\u001b[1;33m.\u001b[0m\u001b[0mupdate\u001b[0m\u001b[1;33m(\u001b[0m \u001b[1;36m33\u001b[0m \u001b[1;33m/\u001b[0m \u001b[1;36m1000.\u001b[0m\u001b[1;33m,\u001b[0m \u001b[0mself\u001b[0m\u001b[1;33m)\u001b[0m\u001b[1;33m\u001b[0m\u001b[1;33m\u001b[0m\u001b[0m\n\u001b[0m\u001b[0;32m    477\u001b[0m             \u001b[0mself\u001b[0m\u001b[1;33m.\u001b[0m\u001b[0mtilemap\u001b[0m\u001b[1;33m.\u001b[0m\u001b[0mdraw\u001b[0m\u001b[1;33m(\u001b[0m\u001b[0mself\u001b[0m\u001b[1;33m.\u001b[0m\u001b[0mscreen\u001b[0m\u001b[1;33m)\u001b[0m\u001b[1;33m\u001b[0m\u001b[1;33m\u001b[0m\u001b[0m\n\u001b[0;32m    478\u001b[0m \u001b[1;33m\u001b[0m\u001b[0m\n",
      "\u001b[1;32mc:\\projects\\EVO\\evoman\\tmx.py\u001b[0m in \u001b[0;36mupdate\u001b[1;34m(self, dt, *args)\u001b[0m\n\u001b[0;32m    700\u001b[0m     \u001b[1;32mdef\u001b[0m \u001b[0mupdate\u001b[0m\u001b[1;33m(\u001b[0m\u001b[0mself\u001b[0m\u001b[1;33m,\u001b[0m \u001b[0mdt\u001b[0m\u001b[1;33m,\u001b[0m \u001b[1;33m*\u001b[0m\u001b[0margs\u001b[0m\u001b[1;33m)\u001b[0m\u001b[1;33m:\u001b[0m\u001b[1;33m\u001b[0m\u001b[1;33m\u001b[0m\u001b[0m\n\u001b[0;32m    701\u001b[0m         \u001b[1;32mfor\u001b[0m \u001b[0mlayer\u001b[0m \u001b[1;32min\u001b[0m \u001b[0mself\u001b[0m\u001b[1;33m.\u001b[0m\u001b[0mlayers\u001b[0m\u001b[1;33m:\u001b[0m\u001b[1;33m\u001b[0m\u001b[1;33m\u001b[0m\u001b[0m\n\u001b[1;32m--> 702\u001b[1;33m             \u001b[0mlayer\u001b[0m\u001b[1;33m.\u001b[0m\u001b[0mupdate\u001b[0m\u001b[1;33m(\u001b[0m\u001b[0mdt\u001b[0m\u001b[1;33m,\u001b[0m \u001b[1;33m*\u001b[0m\u001b[0margs\u001b[0m\u001b[1;33m)\u001b[0m\u001b[1;33m\u001b[0m\u001b[1;33m\u001b[0m\u001b[0m\n\u001b[0m\u001b[0;32m    703\u001b[0m \u001b[1;33m\u001b[0m\u001b[0m\n\u001b[0;32m    704\u001b[0m     \u001b[1;32mdef\u001b[0m \u001b[0mdraw\u001b[0m\u001b[1;33m(\u001b[0m\u001b[0mself\u001b[0m\u001b[1;33m,\u001b[0m \u001b[0mscreen\u001b[0m\u001b[1;33m)\u001b[0m\u001b[1;33m:\u001b[0m\u001b[1;33m\u001b[0m\u001b[1;33m\u001b[0m\u001b[0m\n",
      "\u001b[1;32mc:\\Users\\bjmaa\\anaconda3\\lib\\site-packages\\pygame\\sprite.py\u001b[0m in \u001b[0;36mupdate\u001b[1;34m(self, *args, **kwargs)\u001b[0m\n\u001b[0;32m    537\u001b[0m         \"\"\"\n\u001b[0;32m    538\u001b[0m         \u001b[1;32mfor\u001b[0m \u001b[0msprite\u001b[0m \u001b[1;32min\u001b[0m \u001b[0mself\u001b[0m\u001b[1;33m.\u001b[0m\u001b[0msprites\u001b[0m\u001b[1;33m(\u001b[0m\u001b[1;33m)\u001b[0m\u001b[1;33m:\u001b[0m\u001b[1;33m\u001b[0m\u001b[1;33m\u001b[0m\u001b[0m\n\u001b[1;32m--> 539\u001b[1;33m             \u001b[0msprite\u001b[0m\u001b[1;33m.\u001b[0m\u001b[0mupdate\u001b[0m\u001b[1;33m(\u001b[0m\u001b[1;33m*\u001b[0m\u001b[0margs\u001b[0m\u001b[1;33m,\u001b[0m \u001b[1;33m**\u001b[0m\u001b[0mkwargs\u001b[0m\u001b[1;33m)\u001b[0m\u001b[1;33m\u001b[0m\u001b[1;33m\u001b[0m\u001b[0m\n\u001b[0m\u001b[0;32m    540\u001b[0m \u001b[1;33m\u001b[0m\u001b[0m\n\u001b[0;32m    541\u001b[0m     \u001b[1;32mdef\u001b[0m \u001b[0mdraw\u001b[0m\u001b[1;33m(\u001b[0m\u001b[0mself\u001b[0m\u001b[1;33m,\u001b[0m \u001b[0msurface\u001b[0m\u001b[1;33m)\u001b[0m\u001b[1;33m:\u001b[0m\u001b[1;33m\u001b[0m\u001b[1;33m\u001b[0m\u001b[0m\n",
      "\u001b[1;32mc:\\projects\\EVO\\evoman\\player.py\u001b[0m in \u001b[0;36mupdate\u001b[1;34m(self, dt, game)\u001b[0m\n\u001b[0;32m    180\u001b[0m \u001b[1;33m\u001b[0m\u001b[0m\n\u001b[0;32m    181\u001b[0m                 \u001b[1;31m# calls the controller providing game sensors\u001b[0m\u001b[1;33m\u001b[0m\u001b[1;33m\u001b[0m\u001b[0m\n\u001b[1;32m--> 182\u001b[1;33m                 \u001b[0mactions\u001b[0m \u001b[1;33m=\u001b[0m \u001b[0mgame\u001b[0m\u001b[1;33m.\u001b[0m\u001b[0mplayer_controller\u001b[0m\u001b[1;33m.\u001b[0m\u001b[0mcontrol\u001b[0m\u001b[1;33m(\u001b[0m\u001b[0mself\u001b[0m\u001b[1;33m.\u001b[0m\u001b[0msensors\u001b[0m\u001b[1;33m.\u001b[0m\u001b[0mget\u001b[0m\u001b[1;33m(\u001b[0m\u001b[0mgame\u001b[0m\u001b[1;33m)\u001b[0m\u001b[1;33m,\u001b[0m \u001b[0mgame\u001b[0m\u001b[1;33m.\u001b[0m\u001b[0mpcont\u001b[0m\u001b[1;33m)\u001b[0m\u001b[1;33m\u001b[0m\u001b[1;33m\u001b[0m\u001b[0m\n\u001b[0m\u001b[0;32m    183\u001b[0m                 \u001b[1;32mif\u001b[0m \u001b[0mlen\u001b[0m\u001b[1;33m(\u001b[0m\u001b[0mactions\u001b[0m\u001b[1;33m)\u001b[0m \u001b[1;33m<\u001b[0m \u001b[1;36m5\u001b[0m\u001b[1;33m:\u001b[0m\u001b[1;33m\u001b[0m\u001b[1;33m\u001b[0m\u001b[0m\n\u001b[0;32m    184\u001b[0m                     \u001b[0mgame\u001b[0m\u001b[1;33m.\u001b[0m\u001b[0mprint_logs\u001b[0m\u001b[1;33m(\u001b[0m\u001b[1;34m\"ERROR: Player controller must return 5 decision variables.\"\u001b[0m\u001b[1;33m)\u001b[0m\u001b[1;33m\u001b[0m\u001b[1;33m\u001b[0m\u001b[0m\n",
      "\u001b[1;32mc:\\projects\\EVO\\demo_controller.py\u001b[0m in \u001b[0;36mcontrol\u001b[1;34m(self, inputs, controller)\u001b[0m\n\u001b[0;32m     30\u001b[0m                         \u001b[1;31m# Weights for the connections from the inputs to the hidden nodes\u001b[0m\u001b[1;33m\u001b[0m\u001b[1;33m\u001b[0m\u001b[0m\n\u001b[0;32m     31\u001b[0m                         \u001b[0mweights1_slice\u001b[0m \u001b[1;33m=\u001b[0m \u001b[0mlen\u001b[0m\u001b[1;33m(\u001b[0m\u001b[0minputs\u001b[0m\u001b[1;33m)\u001b[0m\u001b[1;33m*\u001b[0m\u001b[0mself\u001b[0m\u001b[1;33m.\u001b[0m\u001b[0mn_hidden\u001b[0m\u001b[1;33m[\u001b[0m\u001b[1;36m0\u001b[0m\u001b[1;33m]\u001b[0m \u001b[1;33m+\u001b[0m \u001b[0mself\u001b[0m\u001b[1;33m.\u001b[0m\u001b[0mn_hidden\u001b[0m\u001b[1;33m[\u001b[0m\u001b[1;36m0\u001b[0m\u001b[1;33m]\u001b[0m\u001b[1;33m\u001b[0m\u001b[1;33m\u001b[0m\u001b[0m\n\u001b[1;32m---> 32\u001b[1;33m                         \u001b[0mweights1\u001b[0m \u001b[1;33m=\u001b[0m \u001b[0mcontroller\u001b[0m\u001b[1;33m[\u001b[0m\u001b[0mself\u001b[0m\u001b[1;33m.\u001b[0m\u001b[0mn_hidden\u001b[0m\u001b[1;33m[\u001b[0m\u001b[1;36m0\u001b[0m\u001b[1;33m]\u001b[0m\u001b[1;33m:\u001b[0m\u001b[0mweights1_slice\u001b[0m\u001b[1;33m]\u001b[0m\u001b[1;33m.\u001b[0m\u001b[0mreshape\u001b[0m\u001b[1;33m(\u001b[0m\u001b[1;33m(\u001b[0m\u001b[0mlen\u001b[0m\u001b[1;33m(\u001b[0m\u001b[0minputs\u001b[0m\u001b[1;33m)\u001b[0m\u001b[1;33m,\u001b[0m\u001b[0mself\u001b[0m\u001b[1;33m.\u001b[0m\u001b[0mn_hidden\u001b[0m\u001b[1;33m[\u001b[0m\u001b[1;36m0\u001b[0m\u001b[1;33m]\u001b[0m\u001b[1;33m)\u001b[0m\u001b[1;33m)\u001b[0m\u001b[1;33m\u001b[0m\u001b[1;33m\u001b[0m\u001b[0m\n\u001b[0m\u001b[0;32m     33\u001b[0m \u001b[1;33m\u001b[0m\u001b[0m\n\u001b[0;32m     34\u001b[0m                         \u001b[1;31m# Outputs activation first layer.\u001b[0m\u001b[1;33m\u001b[0m\u001b[1;33m\u001b[0m\u001b[0m\n",
      "\u001b[1;31mValueError\u001b[0m: cannot reshape array of size 2455 into shape (20,150)"
     ]
    }
   ],
   "source": [
    "for run in allRuns.keys():\n",
    "    for individual in allRuns[run]:\n",
    "        env.play(pcont=np.array(individual))"
   ]
  }
 ],
 "metadata": {
  "kernelspec": {
   "display_name": "Python 3.9.7 ('base')",
   "language": "python",
   "name": "python3"
  },
  "language_info": {
   "codemirror_mode": {
    "name": "ipython",
    "version": 3
   },
   "file_extension": ".py",
   "mimetype": "text/x-python",
   "name": "python",
   "nbconvert_exporter": "python",
   "pygments_lexer": "ipython3",
   "version": "3.9.7"
  },
  "orig_nbformat": 4,
  "vscode": {
   "interpreter": {
    "hash": "862c09d2c2c0253812be7367a11055f677b2aeb080731f0cc96b0f3dc09c7d04"
   }
  }
 },
 "nbformat": 4,
 "nbformat_minor": 2
}
