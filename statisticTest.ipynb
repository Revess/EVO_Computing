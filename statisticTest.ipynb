{
 "cells": [
  {
   "cell_type": "code",
   "execution_count": 1,
   "metadata": {},
   "outputs": [],
   "source": [
    "import pandas as pd\n",
    "from scipy.stats import ttest_ind"
   ]
  },
  {
   "cell_type": "code",
   "execution_count": 3,
   "metadata": {},
   "outputs": [],
   "source": [
    "baselineTrain = pd.read_csv(\"./trainingResultsBaseline.csv\")\n",
    "baselineTest = pd.read_csv(\"./testRestultsBaseline.csv\").iloc[::5,:]\n",
    "normTrain = pd.read_csv(\"./trainingResultsAltFitness.csv\")\n",
    "normTest = pd.read_csv(\"./testRestultsAltFitness.csv\").iloc[::5,:]"
   ]
  },
  {
   "cell_type": "code",
   "execution_count": 36,
   "metadata": {},
   "outputs": [
    {
     "name": "stdout",
     "output_type": "stream",
     "text": [
      "Fitness Train stat=44.748, p=0.000\n",
      "Probably different distributions\n",
      "\n",
      "\n",
      "Player Health Train stat=47.578, p=0.000\n",
      "Probably different distributions\n",
      "\n",
      "\n",
      "Enemy Health Train stat=22.733, p=0.000\n",
      "Probably different distributions\n",
      "\n",
      "\n",
      "Time Train stat=23.760, p=0.000\n",
      "Probably different distributions\n",
      "\n",
      "\n",
      "Fitness Test stat=-1.426, p=0.156\n",
      "Probably the same distribution\n",
      "\n",
      "\n",
      "Player Health Test stat=0.817, p=0.416\n",
      "Probably the same distribution\n",
      "\n",
      "\n",
      "Enemy Health Test stat=-0.717, p=0.485\n",
      "Probably the same distribution\n",
      "\n",
      "\n",
      "Time Test stat=0.586, p=0.559\n",
      "Probably the same distribution\n",
      "\n",
      "\n"
     ]
    }
   ],
   "source": [
    "stat, p = ttest_ind(baselineTrain[\"fitness\"], normTrain[\"fitness\"])\n",
    "print('Fitness Train stat=%.3f, p=%.3f' % (stat, p))\n",
    "if p > 0.05:\n",
    "\tprint('Probably the same distribution')\n",
    "else:\n",
    "\tprint('Probably different distributions')\n",
    "print('\\n')\n",
    "\n",
    "stat, p = ttest_ind(baselineTrain[\"playerHealth\"], normTrain[\"playerHealth\"])\n",
    "print('Player Health Train stat=%.3f, p=%.3f' % (stat, p))\n",
    "if p > 0.05:\n",
    "\tprint('Probably the same distribution')\n",
    "else:\n",
    "\tprint('Probably different distributions')\n",
    "print('\\n')\n",
    "\n",
    "stat, p = ttest_ind(baselineTrain[\"enemyHealth\"], normTrain[\"enemyHealth\"])\n",
    "print('Enemy Health Train stat=%.3f, p=%.3f' % (stat, p))\n",
    "if p > 0.05:\n",
    "\tprint('Probably the same distribution')\n",
    "else:\n",
    "\tprint('Probably different distributions')\n",
    "print('\\n')\n",
    "\n",
    "stat, p = ttest_ind(baselineTrain[\"time\"], normTrain[\"time\"])\n",
    "print('Time Train stat=%.3f, p=%.3f' % (stat, p))\n",
    "if p > 0.05:\n",
    "\tprint('Probably the same distribution')\n",
    "else:\n",
    "\tprint('Probably different distributions')\n",
    "print('\\n')\n",
    "\n",
    "stat, p = ttest_ind(baselineTest[\"f\"].unique(), normTest[\"f\"].unique())\n",
    "print('Fitness Test stat=%.3f, p=%.3f' % (stat, p))\n",
    "if p > 0.05:\n",
    "\tprint('Probably the same distribution')\n",
    "else:\n",
    "\tprint('Probably different distributions')\n",
    "print('\\n')\n",
    "\n",
    "stat, p = ttest_ind(baselineTest[\"p\"].unique(), normTest[\"p\"].unique())\n",
    "print('Player Health Test stat=%.3f, p=%.3f' % (stat, p))\n",
    "if p > 0.05:\n",
    "\tprint('Probably the same distribution')\n",
    "else:\n",
    "\tprint('Probably different distributions')\n",
    "print('\\n')\n",
    "\n",
    "stat, p = ttest_ind(baselineTest[\"e\"].unique(), normTest[\"e\"].unique())\n",
    "print('Enemy Health Test stat=%.3f, p=%.3f' % (stat, p))\n",
    "if p > 0.05:\n",
    "\tprint('Probably the same distribution')\n",
    "else:\n",
    "\tprint('Probably different distributions')\n",
    "print('\\n')\n",
    "\n",
    "stat, p = ttest_ind(baselineTest[\"t\"].unique(), normTest[\"t\"].unique())\n",
    "print('Time Test stat=%.3f, p=%.3f' % (stat, p))\n",
    "if p > 0.05:\n",
    "\tprint('Probably the same distribution')\n",
    "else:\n",
    "\tprint('Probably different distributions')\n",
    "print('\\n')\n"
   ]
  },
  {
   "cell_type": "code",
   "execution_count": null,
   "metadata": {},
   "outputs": [],
   "source": [
    "stat, p = ttest_ind(data1, data2)\n",
    "print('stat=%.3f, p=%.3f' % (stat, p))\n",
    "if p > 0.05:\n",
    "\tprint('Probably the same distribution')\n",
    "else:\n",
    "\tprint('Probably different distributions')"
   ]
  }
 ],
 "metadata": {
  "kernelspec": {
   "display_name": "Python 3.9.7 ('base')",
   "language": "python",
   "name": "python3"
  },
  "language_info": {
   "codemirror_mode": {
    "name": "ipython",
    "version": 3
   },
   "file_extension": ".py",
   "mimetype": "text/x-python",
   "name": "python",
   "nbconvert_exporter": "python",
   "pygments_lexer": "ipython3",
   "version": "3.9.7"
  },
  "orig_nbformat": 4,
  "vscode": {
   "interpreter": {
    "hash": "862c09d2c2c0253812be7367a11055f677b2aeb080731f0cc96b0f3dc09c7d04"
   }
  }
 },
 "nbformat": 4,
 "nbformat_minor": 2
}
